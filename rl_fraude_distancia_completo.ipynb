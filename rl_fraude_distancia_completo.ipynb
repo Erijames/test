{
  "cells": [
    {
      "cell_type": "markdown",
      "source": [
        "# NOTEBOOK COMPLETO DISTANCIA PROJETO FRAUDE"
      ],
      "metadata": {},
      "id": "cb3560fc"
    },
    {
      "cell_type": "markdown",
      "source": [
        "#### IMPORTANDO BIBLIOTECAS"
      ],
      "metadata": {},
      "id": "9048af22"
    },
    {
      "cell_type": "code",
      "source": [
        "import numpy as np\n",
        "import pandas as pd\n",
        "\n",
        "#calcular distância em km entre lat e long\n",
        "import geopy.distance\n",
        "\n",
        "#converter bytes to string\n",
        "from io import StringIO \n",
        "\n",
        "#calculo dos coeficientes\n",
        "from scipy.stats.stats import pearsonr\n",
        "from sklearn.linear_model import LinearRegression\n",
        "from scipy import stats\n",
        "\n",
        "#conexão com o blob storage\n",
        "from azure.storage.blob import BlockBlobService\n",
        "#conexão com a table storage\n",
        "from azure.data.tables import TableServiceClient"
      ],
      "outputs": [],
      "execution_count": 51,
      "metadata": {},
      "id": "b5c8e651"
    },
    {
      "cell_type": "markdown",
      "source": [
        "#### PEGAR ARQUIVO DO BLOB STORAGE"
      ],
      "metadata": {},
      "id": "50b625dc"
    },
    {
      "cell_type": "code",
      "source": [
        "#ler o arquivo BaseDistancia2.csv do blob storage\n",
        "accountName = \"bluestoragefraude\"\n",
        "accountKey = \"KlpYzFJrw/90kdD8n1M7Hj7/thvdAiOVOvMUswOds/Mv471eHQMO4bgobr4KL9gaifuXVU4pMnwMwmfUmvh4Vw==\"\n",
        "containerName = \"fraude\"\n",
        "blobName = \"BaseDistancia.csv\"\n",
        "blobService = BlockBlobService(account_name=accountName, account_key=accountKey)\n",
        "result = blobService.get_blob_to_text(containerName, blobName)\n",
        "\n",
        "#converter arquivo lido para dentro do df\n",
        "idc = pd.read_csv(StringIO(result.content))"
      ],
      "outputs": [],
      "execution_count": 157,
      "metadata": {},
      "id": "9d385508"
    },
    {
      "cell_type": "markdown",
      "source": [
        "#### PRÉ-PROCESSAMENTO"
      ],
      "metadata": {},
      "id": "f6d8ebf7"
    },
    {
      "cell_type": "code",
      "source": [
        "#calcular a distância entre A e B de cada registro(linha)\n",
        "lista = []\n",
        "for c in range (len(idc)):\n",
        "    lista.append(geopy.distance.distance(idc.iloc[c,8:10].tolist(), idc.iloc[c,10:].tolist()).km)\n",
        "idc['distancia'] = lista"
      ],
      "outputs": [],
      "execution_count": 160,
      "metadata": {},
      "id": "ae9d249e"
    },
    {
      "cell_type": "markdown",
      "source": [
        "#### TREINO DE MODELO"
      ],
      "metadata": {},
      "id": "2e779ad9"
    },
    {
      "cell_type": "code",
      "source": [
        "#cria conexão com o table storage \n",
        "account_name = 'bluestoragefraude'\n",
        "account_key = 'KlpYzFJrw/90kdD8n1M7Hj7/thvdAiOVOvMUswOds/Mv471eHQMO4bgobr4KL9gaifuXVU4pMnwMwmfUmvh4Vw=='\n",
        "endpoint_suffix = 'core.windows.net'\n",
        "account_connection_string = 'DefaultEndpointsProtocol=https;AccountName=bluestoragefraude;AccountKey=KlpYzFJrw/90kdD8n1M7Hj7/thvdAiOVOvMUswOds/Mv471eHQMO4bgobr4KL9gaifuXVU4pMnwMwmfUmvh4Vw==;EndpointSuffix=core.windows.net'\n",
        "\n",
        "table_service = TableServiceClient.from_connection_string(conn_str=account_connection_string)\n",
        "table_client = table_service.get_table_client(table_name=\"profilefraudedistancia\")"
      ],
      "outputs": [],
      "execution_count": 161,
      "metadata": {},
      "id": "8f17ff9a"
    },
    {
      "cell_type": "code",
      "source": [
        "def get_prediction_interval(prediction, y_test, test_predictions, pi=.95):\n",
        "    #get standard deviation of y_test\n",
        "    sum_errs = np.sum((y_test - test_predictions)**2)\n",
        "    stdev = np.sqrt(1 / (len(y_test) - 2) * sum_errs)\n",
        "    #get interval from standard deviation\n",
        "    one_minus_pi = 1 - pi\n",
        "    ppf_lookup = 1 - (one_minus_pi / 2)\n",
        "    z_score = stats.norm.ppf(ppf_lookup)\n",
        "    interval = z_score * stdev\n",
        "    #generate prediction interval lower and upper bound cs_24\n",
        "    lower, upper = prediction - interval, prediction + interval\n",
        "    return upper"
      ],
      "outputs": [],
      "execution_count": 194,
      "metadata": {},
      "id": "c86fea94"
    },
    {
      "cell_type": "code",
      "source": [
        "for i in idc['idPessoa']:\n",
        "    \n",
        "    customer = idc[idc['idPessoa'] == i]   \n",
        "    y_data = idc['distancia'].loc[idc['idPessoa'] == i]\n",
        "    \n",
        "    x_data = np.arange(0, len(y_data), 1)\n",
        "    x_data_composed = x_data.reshape(-1,1)\n",
        "\n",
        "    #modelo\n",
        "    lin_regression = LinearRegression().fit(x_data_composed, y_data)\n",
        "    model_line = lin_regression.predict(x_data_composed)\n",
        "    \n",
        "    dias = x_data_composed\n",
        "    nd = 1                                \n",
        "    pc = dias[-1] + nd                      \n",
        "    y_pred = lin_regression.intercept_ + lin_regression.coef_ * pc\n",
        "    upper =  get_prediction_interval(y_pred, y_data, model_line)\n",
        "\n",
        "    #coeficientes angular e linear\n",
        "    b = lin_regression.intercept_ \n",
        "    a = float(lin_regression.coef_)\n",
        "        \n",
        "    #dicionario com dados de coeficientes do usuário\n",
        "    customer = {u'PartitionKey': 'MF', \n",
        "                        u'RowKey': f'{i}', \n",
        "                        u'coef_angular': f'{a}',\n",
        "                        u'coef_linear': f'{b}',\n",
        "                        u'step': f'{len(x_data) + 1}',\n",
        "                        u'upper': f'{float(upper)}'\n",
        "                       }\n",
        "    \n",
        "    #delete registro com o id da row_key\n",
        "    table_client.delete_entity(row_key=f'{i}', partition_key='MF')\n",
        "    #adicionar registro com os dados do customer\n",
        "    table_client.create_entity(entity=customer)"
      ],
      "outputs": [
        {
          "output_type": "error",
          "ename": "ZeroDivisionError",
          "evalue": "division by zero",
          "traceback": [
            "\u001b[1;31m---------------------------------------------------------------------------\u001b[0m",
            "\u001b[1;31mZeroDivisionError\u001b[0m                         Traceback (most recent call last)",
            "\u001b[1;32m<ipython-input-196-e2ef1a68e3a6>\u001b[0m in \u001b[0;36m<module>\u001b[1;34m\u001b[0m\n\u001b[0;32m     19\u001b[0m     \u001b[0mpc\u001b[0m \u001b[1;33m=\u001b[0m \u001b[0mdias\u001b[0m\u001b[1;33m[\u001b[0m\u001b[1;33m-\u001b[0m\u001b[1;36m1\u001b[0m\u001b[1;33m]\u001b[0m \u001b[1;33m+\u001b[0m \u001b[0mnd\u001b[0m\u001b[1;33m\u001b[0m\u001b[1;33m\u001b[0m\u001b[0m\n\u001b[0;32m     20\u001b[0m     \u001b[0my_pred\u001b[0m \u001b[1;33m=\u001b[0m \u001b[0mlin_regression\u001b[0m\u001b[1;33m.\u001b[0m\u001b[0mintercept_\u001b[0m \u001b[1;33m+\u001b[0m \u001b[0mlin_regression\u001b[0m\u001b[1;33m.\u001b[0m\u001b[0mcoef_\u001b[0m \u001b[1;33m*\u001b[0m \u001b[0mpc\u001b[0m\u001b[1;33m\u001b[0m\u001b[1;33m\u001b[0m\u001b[0m\n\u001b[1;32m---> 21\u001b[1;33m     \u001b[0mupper\u001b[0m \u001b[1;33m=\u001b[0m  \u001b[0mget_prediction_interval\u001b[0m\u001b[1;33m(\u001b[0m\u001b[0my_pred\u001b[0m\u001b[1;33m,\u001b[0m \u001b[0my_data\u001b[0m\u001b[1;33m,\u001b[0m \u001b[0mmodel_line\u001b[0m\u001b[1;33m)\u001b[0m\u001b[1;33m\u001b[0m\u001b[1;33m\u001b[0m\u001b[0m\n\u001b[0m\u001b[0;32m     22\u001b[0m \u001b[1;33m\u001b[0m\u001b[0m\n\u001b[0;32m     23\u001b[0m     \u001b[1;31m#coeficientes angular e linear\u001b[0m\u001b[1;33m\u001b[0m\u001b[1;33m\u001b[0m\u001b[1;33m\u001b[0m\u001b[0m\n",
            "\u001b[1;32m<ipython-input-194-2eb2f7230495>\u001b[0m in \u001b[0;36mget_prediction_interval\u001b[1;34m(prediction, y_test, test_predictions, pi)\u001b[0m\n\u001b[0;32m      2\u001b[0m     \u001b[1;31m#get standard deviation of y_test\u001b[0m\u001b[1;33m\u001b[0m\u001b[1;33m\u001b[0m\u001b[1;33m\u001b[0m\u001b[0m\n\u001b[0;32m      3\u001b[0m     \u001b[0msum_errs\u001b[0m \u001b[1;33m=\u001b[0m \u001b[0mnp\u001b[0m\u001b[1;33m.\u001b[0m\u001b[0msum\u001b[0m\u001b[1;33m(\u001b[0m\u001b[1;33m(\u001b[0m\u001b[0my_test\u001b[0m \u001b[1;33m-\u001b[0m \u001b[0mtest_predictions\u001b[0m\u001b[1;33m)\u001b[0m\u001b[1;33m**\u001b[0m\u001b[1;36m2\u001b[0m\u001b[1;33m)\u001b[0m\u001b[1;33m\u001b[0m\u001b[1;33m\u001b[0m\u001b[0m\n\u001b[1;32m----> 4\u001b[1;33m     \u001b[0mstdev\u001b[0m \u001b[1;33m=\u001b[0m \u001b[0mnp\u001b[0m\u001b[1;33m.\u001b[0m\u001b[0msqrt\u001b[0m\u001b[1;33m(\u001b[0m\u001b[1;36m1\u001b[0m \u001b[1;33m/\u001b[0m \u001b[1;33m(\u001b[0m\u001b[0mlen\u001b[0m\u001b[1;33m(\u001b[0m\u001b[0my_test\u001b[0m\u001b[1;33m)\u001b[0m \u001b[1;33m-\u001b[0m \u001b[1;36m2\u001b[0m\u001b[1;33m)\u001b[0m \u001b[1;33m*\u001b[0m \u001b[0msum_errs\u001b[0m\u001b[1;33m)\u001b[0m\u001b[1;33m\u001b[0m\u001b[1;33m\u001b[0m\u001b[0m\n\u001b[0m\u001b[0;32m      5\u001b[0m     \u001b[1;31m#get interval from standard deviation\u001b[0m\u001b[1;33m\u001b[0m\u001b[1;33m\u001b[0m\u001b[1;33m\u001b[0m\u001b[0m\n\u001b[0;32m      6\u001b[0m     \u001b[0mone_minus_pi\u001b[0m \u001b[1;33m=\u001b[0m \u001b[1;36m1\u001b[0m \u001b[1;33m-\u001b[0m \u001b[0mpi\u001b[0m\u001b[1;33m\u001b[0m\u001b[1;33m\u001b[0m\u001b[0m\n",
            "\u001b[1;31mZeroDivisionError\u001b[0m: division by zero"
          ]
        }
      ],
      "execution_count": 196,
      "metadata": {
        "scrolled": true
      },
      "id": "1d83e9e5"
    }
  ],
  "metadata": {
    "kernelspec": {
      "name": "python3",
      "language": "python",
      "display_name": "Python 3"
    },
    "language_info": {
      "name": "python",
      "version": "3.6.9",
      "mimetype": "text/x-python",
      "codemirror_mode": {
        "name": "ipython",
        "version": 3
      },
      "pygments_lexer": "ipython3",
      "nbconvert_exporter": "python",
      "file_extension": ".py"
    },
    "nteract": {
      "version": "nteract-front-end@1.0.0"
    },
    "kernel_info": {
      "name": "python3"
    }
  },
  "nbformat": 4,
  "nbformat_minor": 5
}